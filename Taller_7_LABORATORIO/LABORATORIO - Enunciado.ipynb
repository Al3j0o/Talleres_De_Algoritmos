{
 "cells": [
  {
   "cell_type": "markdown",
   "metadata": {},
   "source": [
    "# Laboratorio 1"
   ]
  },
  {
   "cell_type": "markdown",
   "metadata": {},
   "source": [
    "## Desarrollo de una herramienta analítica usando recursos nativos de Python"
   ]
  },
  {
   "cell_type": "markdown",
   "metadata": {},
   "source": [
    "Para el desarrollo de esta actividad debes utilizar únicamente recursos nativos de Python (puedes usar librerías como `math` y `random`). Está prohibido el uso de librerías externas, a excepción de `matplotlib`. Te recomendamos leer por completo el enunciado del laboratorio antes de comenzar, de forma que tengas claro el propósito global de la actividad y puedas desarrollar tu solución apuntando a él desde el inicio."
   ]
  },
  {
   "cell_type": "markdown",
   "metadata": {},
   "source": [
    "En algunas de las misiones encontrarás: una **versión base**, la cual indica el requerimiento mínimo de la misión; una **versión completa**, la cual indica mejoras deseables o complementos a la **versión base**. Un desarrollo aceptable del laboratorio debe satisfacer la **versión base** y un desarrollo correcto del laboratorio debe satisfacer la **versión completa**. Cumplir con el desarrollo de la **versión completa** desde un inicio hará más sencillas las misiones siguientes."
   ]
  },
  {
   "cell_type": "markdown",
   "metadata": {},
   "source": [
    "Al desarrollar este laboratorio pondrás a prueba tus habilidades para:\n",
    "\n",
    "1. Identificar y abordar preguntas de negocio y de *analytics*.\n",
    "2. Leer datos desde archivos y almacenarlos en estructuras de Python.\n",
    "3. Crear y llamar funciones.\n",
    "4. Implementar condicionales diferenciando `if`, `elif` y `else`.\n",
    "5. Implementar ciclos diferenciando el propósito de `for` y `while`."
   ]
  },
  {
   "cell_type": "markdown",
   "metadata": {},
   "source": [
    "## Contexto: exploración del potencial para asignar becas Unialpes"
   ]
  },
  {
   "cell_type": "markdown",
   "metadata": {},
   "source": [
    "La Universidad ean se ha caracterizado por su compromiso con la generación de impacto en la sociedad a través de diferentes programas de becas. Programas como Becas para los Mejores, entre otros, han sido revolucionarios al permitir que estudiantes de bajos recursos puedan acceder a una de las universidades más prestigiosas del país."
   ]
  },
  {
   "cell_type": "markdown",
   "metadata": {},
   "source": [
    "Actualmente, la universidad quiere evaluar el potencial impacto que tendrían algunos programas de acción afirmativa para asignación de becas, con base en información demográfica que ha obtenido a través de encuestas a personas interesadas en becas. Se cuenta con información respecto a la edad, género, estado civil, estrato socioeconómico, región de proveniencia, desempeño académico y nivel de escolaridad de las personas encuestadas. Los encargados de diseñar el programa saben que utilizar criterios basados en este tipo de variables es un tema sensible, pero es necesario si se quieren focalizar las oportunidades en poblaciones menos representadas."
   ]
  },
  {
   "cell_type": "markdown",
   "metadata": {},
   "source": [
    "El objetivo de este laboratorio es crear una herramienta computacional que permita a un tomador de decisiones explorar qué efecto podría tener el uso de diferentes reglas para seleccionar a los beneficiarios de las becas. Puntualmente, se espera que, para distintas reglas de selección (ej., pertenecer a cierta región, rango de edad, etc.), la herramienta ofrezca una caracterización de los potenciales beneficiarios de las becas (a partir de estadísticas descriptivas y visualizaciones), de forma que exista un sustento para elegir la regla de selección adecuada."
   ]
  },
  {
   "cell_type": "markdown",
   "metadata": {},
   "source": [
    "## Fase 1: obtener e inspeccionar archivos"
   ]
  },
  {
   "cell_type": "markdown",
   "metadata": {},
   "source": [
    "Los datos de encuestas fueron obtenidos como parte de un trabajo de campo y, por limitaciones tecnológicas, solo se cuenta con la información en archivos de texto plano (`.txt`). Cada archivo corresponde a uno de los atributos antes mencionados y están estructurados de forma que todos relacionan a las personas encuestadas en el mismo orden (i.e., en cada archivo la primera línea corresponde a un dato de la primera persona encuestada, la segunda línea corresponde a un dato de la segunda persona encuestada, etc.)."
   ]
  },
  {
   "cell_type": "markdown",
   "metadata": {},
   "source": [
    "Los archivos con los que cuentas son:\n",
    "\n",
    "* `\"edad.txt\"`: un archivo con la edad de cada persona encuestada;\n",
    "* `\"escolaridad.txt\"`: un archivo con el nivel de escolaridad de cada persona encuestada;\n",
    "* `\"estado_civil.txt\"`: un archivo con el estado civil de cada persona encuestada;\n",
    "* `\"estrato.txt\"`: un archivo con el estrato socioeconómico de cada persona encuestada;\n",
    "* `\"genero.txt\"`: un archivo con el género de cada persona encuestada;\n",
    "* `\"promedio.txt\"`: un archivo con el promedio académico de cada persona encuestada;\n",
    "* `\"region.txt\"`: un archivo con la región de proveniencia de cada persona encuestada."
   ]
  },
  {
   "cell_type": "markdown",
   "metadata": {},
   "source": [
    "### Misión 1"
   ]
  },
  {
   "cell_type": "markdown",
   "metadata": {},
   "source": [
    "**Versión base**: utiliza métodos de lectura de archivos para guardar la información de cada archivo en una estructura de datos de Python, de manera que se respete el orden y la categoría de los datos."
   ]
  },
  {
   "cell_type": "markdown",
   "metadata": {},
   "source": [
    "**Versión completa**: escribe una función que sea capaz de ejecutar la **versión base** y llámala dentro de un ciclo para automatizar la lectura de los archivos."
   ]
  },
  {
   "cell_type": "code",
   "execution_count": 8,
   "metadata": {},
   "outputs": [
    {
     "name": "stdout",
     "output_type": "stream",
     "text": [
      "[(1, 36, 'Secundaria', 'casada', 5, 'masculino', 2.4, 'Region_1'), (2, 66, 'Profesional', 'divorciada', 1, 'masculino', 0.9, 'Region_1'), (3, 24, 'Secundaria', 'divorciada', 3, 'femenino', 3.2, 'Region_2'), (4, 55, 'Secundaria', 'casada', 3, 'masculino', 2.1, 'Region_2'), (5, 26, 'Secundaria', 'divorciada', 2, 'otro', 2.1, 'Region_3'), (6, 69, 'Secundaria', 'divorciada', 3, 'no binario', 2.0, 'Region_4'), (7, 79, 'Secundaria', 'casada', 4, 'masculino', 2.7, 'Region_5'), (8, 54, 'Secundaria', 'casada', 2, 'femenino', 4.9, 'Region_1'), (9, 51, 'Secundaria', 'soltera', 2, 'femenino', 2.1, 'Region_4'), (10, 80, 'Profesional', 'soltera', 3, 'masculino', 4.5, 'Region_1'), (11, 30, 'Secundaria', 'soltera', 2, 'femenino', 3.0, 'Region_4'), (12, 64, 'Primaria', 'casada', 2, 'femenino', 3.0, 'Region_2'), (13, 40, 'Secundaria', 'casada', 2, 'femenino', 3.5, 'Region_4'), (14, 53, 'Secundaria', 'casada', 3, 'femenino', 1.8, 'Region_2'), (15, 47, 'Secundaria', 'divorciada', 1, 'no binario', 1.2, 'Region_2'), (16, 24, 'Secundaria', 'divorciada', 1, 'femenino', 0.1, 'Region_2'), (17, 76, 'Secundaria', 'casada', 3, 'masculino', 1.0, 'Region_4'), (18, 65, 'Secundaria', 'divorciada', 2, 'femenino', 3.9, 'Region_4'), (19, 38, 'Secundaria', 'soltera', 3, 'masculino', 2.9, 'Region_1'), (20, 37, 'Profesional', 'casada', 2, 'masculino', 3.0, 'Region_1'), (21, 71, 'Secundaria', 'soltera', 3, 'femenino', 3.0, 'Region_2'), (22, 51, 'Secundaria', 'soltera', 1, 'femenino', 3.0, 'Region_2'), (23, 51, 'Secundaria', 'casada', 2, 'no binario', 4.3, 'Region_4'), (24, 33, 'Secundaria', 'casada', 2, 'masculino', 2.3, 'Region_4'), (25, 24, 'Profesional', 'casada', 3, 'femenino', 2.6, 'Region_1'), (26, 71, 'Secundaria', 'divorciada', 1, 'masculino', 2.3, 'Region_4'), (27, 78, 'Secundaria', 'soltera', 3, 'femenino', 3.0, 'Region_1'), (28, 75, 'Secundaria', 'soltera', 3, 'femenino', 2.8, 'Region_4'), (29, 38, 'Secundaria', 'soltera', 3, 'femenino', 1.0, 'Region_4'), (30, 49, 'Secundaria', 'divorciada', 1, 'femenino', 2.9, 'Region_1'), (31, 49, 'Secundaria', 'casada', 1, 'femenino', 3.7, 'Region_4'), (32, 53, 'Secundaria', 'divorciada', 2, 'no binario', 3.2, 'Region_4'), (33, 62, 'Secundaria', 'casada', 2, 'masculino', 3.3, 'Region_4'), (34, 26, 'Secundaria', 'casada', 2, 'masculino', 3.9, 'Region_1'), (35, 67, 'Secundaria', 'casada', 2, 'no binario', 2.6, 'Region_1'), (36, 68, 'Profesional', 'divorciada', 2, 'masculino', 2.4, 'Region_2'), (37, 70, 'Secundaria', 'divorciada', 2, 'femenino', 3.9, 'Region_4'), (38, 57, 'Primaria', 'divorciada', 2, 'femenino', 1.8, 'Region_4'), (39, 47, 'Secundaria', 'casada', 5, 'femenino', 3.3, 'Region_4'), (40, 30, 'Maestria', 'soltera', 1, 'masculino', 2.1, 'Region_3'), (41, 44, 'Secundaria', 'divorciada', 2, 'masculino', 1.9, 'Region_2'), (42, 22, 'Secundaria', 'soltera', 2, 'masculino', 1.7, 'Region_2'), (43, 30, 'Secundaria', 'divorciada', 3, 'masculino', 2.5, 'Region_4'), (44, 64, 'Secundaria', 'soltera', 2, 'masculino', 2.9, 'Region_2'), (45, 21, 'Secundaria', 'soltera', 2, 'femenino', 1.5, 'Region_3'), (46, 54, 'Secundaria', 'casada', 3, 'femenino', 4.1, 'Region_1'), (47, 35, 'Secundaria', 'casada', 2, 'no binario', 0.9, 'Region_1'), (48, 52, 'Secundaria', 'divorciada', 2, 'femenino', 3.0, 'Region_4'), (49, 27, 'Secundaria', 'casada', 2, 'femenino', 2.3, 'Region_4'), (50, 20, 'Secundaria', 'soltera', 3, 'masculino', 4.5, 'Region_5'), (51, 59, 'Secundaria', 'soltera', 3, 'femenino', 2.8, 'Region_3'), (52, 40, 'Profesional', 'casada', 2, 'femenino', 3.8, 'Region_4'), (53, 23, 'Profesional', 'soltera', 3, 'masculino', 3.3, 'Region_2'), (54, 58, 'Secundaria', 'casada', 4, 'femenino', 3.9, 'Region_4'), (55, 71, 'Secundaria', 'viuda', 2, 'masculino', 3.0, 'Region_2'), (56, 77, 'Secundaria', 'divorciada', 3, 'masculino', 2.7, 'Region_2'), (57, 70, 'Profesional', 'viuda', 1, 'femenino', 2.4, 'Region_4'), (58, 31, 'Secundaria', 'casada', 2, 'femenino', 1.1, 'Region_4'), (59, 19, 'Secundaria', 'divorciada', 1, 'masculino', 2.6, 'Region_3'), (60, 31, 'Secundaria', 'divorciada', 2, 'masculino', 3.1, 'Region_4'), (61, 75, 'Primaria', 'casada', 3, 'femenino', 4.9, 'Region_4'), (62, 63, 'Profesional', 'soltera', 1, 'masculino', 3.1, 'Region_1'), (63, 79, 'Secundaria', 'soltera', 2, 'femenino', 3.0, 'Region_1'), (64, 67, 'Profesional', 'divorciada', 1, 'masculino', 2.1, 'Region_1'), (65, 46, 'Secundaria', 'casada', 3, 'femenino', 2.2, 'Region_2'), (66, 79, 'Secundaria', 'casada', 2, 'femenino', 2.3, 'Region_3'), (67, 30, 'Secundaria', 'divorciada', 2, 'no binario', 3.3, 'Region_2'), (68, 19, 'Secundaria', 'divorciada', 3, 'masculino', 0.8, 'Region_2'), (69, 64, 'Secundaria', 'divorciada', 2, 'femenino', 1.7, 'Region_2'), (70, 52, 'Secundaria', 'soltera', 2, 'femenino', 3.9, 'Region_2'), (71, 79, 'Secundaria', 'casada', 2, 'femenino', 4.3, 'Region_4'), (72, 35, 'Secundaria', 'divorciada', 3, 'masculino', 2.1, 'Region_4'), (73, 74, 'Secundaria', 'soltera', 2, 'masculino', 1.5, 'Region_4'), (74, 18, 'Secundaria', 'casada', 2, 'femenino', 2.1, 'Region_3'), (75, 22, 'Profesional', 'casada', 3, 'femenino', 4.0, 'Region_1'), (76, 58, 'Profesional', 'divorciada', 1, 'femenino', 3.1, 'Region_1'), (77, 77, 'Secundaria', 'soltera', 3, 'masculino', 2.9, 'Region_2'), (78, 22, 'Profesional', 'divorciada', 1, 'no binario', 0.0, 'Region_4'), (79, 73, 'Secundaria', 'casada', 2, 'no binario', 2.5, 'Region_4'), (80, 59, 'Secundaria', 'casada', 3, 'masculino', 4.0, 'Region_2'), (81, 18, 'Profesional', 'divorciada', 4, 'femenino', 2.3, 'Region_4'), (82, 46, 'Secundaria', 'soltera', 2, 'no binario', 3.3, 'Region_2'), (83, 35, 'Secundaria', 'divorciada', 2, 'femenino', 3.5, 'Region_4'), (84, 38, 'Maestria', 'divorciada', 1, 'masculino', 1.2, 'Region_5'), (85, 80, 'Secundaria', 'divorciada', 2, 'femenino', 3.0, 'Region_4'), (86, 65, 'Secundaria', 'casada', 2, 'masculino', 3.4, 'Region_4'), (87, 41, 'Profesional', 'casada', 1, 'masculino', 2.7, 'Region_4'), (88, 46, 'Profesional', 'casada', 4, 'masculino', 0.0, 'Region_4'), (89, 36, 'Secundaria', 'casada', 3, 'no binario', 2.1, 'Region_4'), (90, 46, 'Secundaria', 'divorciada', 1, 'no binario', 2.2, 'Region_4'), (91, 56, 'Secundaria', 'divorciada', 3, 'masculino', 3.4, 'Region_4'), (92, 37, 'Secundaria', 'casada', 2, 'femenino', 2.6, 'Region_1'), (93, 67, 'Secundaria', 'soltera', 1, 'femenino', 3.8, 'Region_1'), (94, 20, 'Profesional', 'casada', 1, 'femenino', 1.8, 'Region_1'), (95, 46, 'Secundaria', 'casada', 3, 'femenino', 2.0, 'Region_1'), (96, 62, 'Secundaria', 'casada', 1, 'femenino', 2.4, 'Region_2'), (97, 70, 'Profesional', 'divorciada', 2, 'no binario', 4.0, 'Region_4'), (98, 31, 'Profesional', 'casada', 4, 'femenino', 1.9, 'Region_5'), (99, 20, 'Profesional', 'casada', 2, 'masculino', 1.8, 'Region_3'), (100, 64, 'Secundaria', 'viuda', 5, 'femenino', 3.4, 'Region_3'), (101, 78, 'Secundaria', 'soltera', 1, 'femenino', 2.6, 'Region_1'), (102, 66, 'Secundaria', 'casada', 2, 'masculino', 3.0, 'Region_2'), (103, 45, 'Profesional', 'casada', 1, 'masculino', 3.1, 'Region_5'), (104, 43, 'Maestria', 'casada', 3, 'masculino', 3.1, 'Region_2'), (105, 70, 'Profesional', 'soltera', 1, 'no binario', 3.5, 'Region_4'), (106, 43, 'Secundaria', 'casada', 2, 'femenino', 2.1, 'Region_4'), (107, 24, 'Primaria', 'casada', 1, 'masculino', 2.2, 'Region_2'), (108, 58, 'Secundaria', 'divorciada', 1, 'femenino', 3.7, 'Region_2'), (109, 62, 'Profesional', 'viuda', 1, 'femenino', 4.1, 'Region_4'), (110, 60, 'Profesional', 'soltera', 3, 'femenino', 4.7, 'Region_2'), (111, 80, 'Primaria', 'soltera', 2, 'femenino', 3.6, 'Region_1'), (112, 73, 'Secundaria', 'divorciada', 1, 'masculino', 3.6, 'Region_1'), (113, 73, 'Secundaria', 'divorciada', 3, 'femenino', 1.4, 'Region_1'), (114, 57, 'Profesional', 'divorciada', 2, 'femenino', 3.9, 'Region_3'), (115, 42, 'Profesional', 'casada', 4, 'femenino', 1.4, 'Region_4'), (116, 51, 'Profesional', 'divorciada', 2, 'femenino', 3.8, 'Region_1'), (117, 52, 'Secundaria', 'casada', 2, 'femenino', 1.6, 'Region_1'), (118, 58, 'Secundaria', 'divorciada', 3, 'femenino', 1.7, 'Region_3'), (119, 39, 'Maestria', 'casada', 2, 'femenino', 1.8, 'Region_4'), (120, 43, 'Secundaria', 'soltera', 1, 'masculino', 3.0, 'Region_4'), (121, 66, 'Profesional', 'casada', 3, 'femenino', 3.6, 'Region_4'), (122, 32, 'Secundaria', 'soltera', 3, 'femenino', 2.1, 'Region_2'), (123, 49, 'Secundaria', 'casada', 4, 'masculino', 2.2, 'Region_4'), (124, 44, 'Profesional', 'divorciada', 2, 'femenino', 3.7, 'Region_4'), (125, 57, 'Secundaria', 'soltera', 3, 'femenino', 2.7, 'Region_4'), (126, 39, 'Secundaria', 'divorciada', 3, 'femenino', 2.5, 'Region_4'), (127, 21, 'Secundaria', 'divorciada', 3, 'masculino', 1.3, 'Region_3'), (128, 27, 'Profesional', 'casada', 3, 'femenino', 1.2, 'Region_4'), (129, 31, 'Secundaria', 'soltera', 1, 'femenino', 2.1, 'Region_4'), (130, 28, 'Secundaria', 'divorciada', 4, 'masculino', 1.3, 'Region_3'), (131, 44, 'Profesional', 'casada', 3, 'masculino', 3.2, 'Region_1'), (132, 80, 'Secundaria', 'viuda', 1, 'femenino', 1.5, 'Region_2'), (133, 71, 'Secundaria', 'divorciada', 2, 'masculino', 2.6, 'Region_4'), (134, 33, 'Profesional', 'casada', 1, 'femenino', 1.2, 'Region_2'), (135, 22, 'Secundaria', 'soltera', 3, 'femenino', 4.2, 'Region_1'), (136, 78, 'Secundaria', 'divorciada', 3, 'femenino', 1.9, 'Region_4'), (137, 60, 'Secundaria', 'soltera', 2, 'otro', 3.6, 'Region_4'), (138, 70, 'Profesional', 'divorciada', 2, 'femenino', 4.8, 'Region_1'), (139, 62, 'Secundaria', 'divorciada', 3, 'masculino', 4.0, 'Region_3'), (140, 45, 'Secundaria', 'casada', 2, 'femenino', 2.8, 'Region_4'), (141, 78, 'Secundaria', 'soltera', 1, 'masculino', 3.6, 'Region_1'), (142, 78, 'Profesional', 'soltera', 2, 'femenino', 1.3, 'Region_4'), (143, 42, 'Secundaria', 'divorciada', 4, 'femenino', 2.2, 'Region_4'), (144, 21, 'Profesional', 'soltera', 3, 'femenino', 1.8, 'Region_4'), (145, 44, 'Primaria', 'soltera', 3, 'femenino', 2.4, 'Region_1'), (146, 38, 'Secundaria', 'casada', 3, 'femenino', 4.0, 'Region_4'), (147, 19, 'Profesional', 'divorciada', 2, 'femenino', 3.5, 'Region_1'), (148, 31, 'Secundaria', 'divorciada', 3, 'femenino', 3.4, 'Region_1'), (149, 58, 'Secundaria', 'casada', 2, 'femenino', 3.0, 'Region_1'), (150, 69, 'Profesional', 'casada', 3, 'masculino', 3.8, 'Region_1'), (151, 34, 'Profesional', 'soltera', 2, 'femenino', 0.2, 'Region_1'), (152, 69, 'Secundaria', 'casada', 2, 'masculino', 3.4, 'Region_2'), (153, 80, 'Primaria', 'divorciada', 3, 'femenino', 3.5, 'Region_1'), (154, 20, 'Secundaria', 'casada', 4, 'femenino', 2.9, 'Region_3'), (155, 59, 'Primaria', 'divorciada', 2, 'femenino', 2.0, 'Region_1'), (156, 29, 'Secundaria', 'soltera', 3, 'femenino', 1.7, 'Region_4'), (157, 33, 'Secundaria', 'soltera', 2, 'femenino', 2.5, 'Region_4'), (158, 29, 'Secundaria', 'casada', 1, 'femenino', 2.3, 'Region_4'), (159, 44, 'Profesional', 'casada', 2, 'masculino', 1.2, 'Region_2'), (160, 55, 'Profesional', 'soltera', 3, 'masculino', 4.6, 'Region_4'), (161, 47, 'Secundaria', 'soltera', 2, 'femenino', 2.3, 'Region_2'), (162, 26, 'Secundaria', 'casada', 3, 'masculino', 4.4, 'Region_2'), (163, 47, 'Secundaria', 'casada', 1, 'masculino', 4.9, 'Region_1'), (164, 20, 'Profesional', 'viuda', 1, 'masculino', 3.7, 'Region_1'), (165, 43, 'Secundaria', 'soltera', 2, 'otro', 0.1, 'Region_4'), (166, 27, 'Secundaria', 'soltera', 1, 'femenino', 3.0, 'Region_2'), (167, 29, 'Secundaria', 'casada', 1, 'no binario', 2.0, 'Region_2'), (168, 21, 'Secundaria', 'casada', 1, 'femenino', 1.5, 'Region_2'), (169, 70, 'Secundaria', 'soltera', 4, 'femenino', 3.6, 'Region_4'), (170, 69, 'Secundaria', 'divorciada', 2, 'masculino', 3.8, 'Region_4'), (171, 45, 'Secundaria', 'soltera', 2, 'masculino', 2.4, 'Region_1'), (172, 69, 'Secundaria', 'soltera', 2, 'femenino', 1.6, 'Region_4'), (173, 34, 'Secundaria', 'divorciada', 2, 'femenino', 2.8, 'Region_2'), (174, 28, 'Maestria', 'divorciada', 3, 'femenino', 3.4, 'Region_2'), (175, 50, 'Secundaria', 'viuda', 3, 'masculino', 3.1, 'Region_4'), (176, 79, 'Secundaria', 'casada', 1, 'masculino', 3.8, 'Region_1'), (177, 29, 'Secundaria', 'casada', 2, 'masculino', 3.0, 'Region_2'), (178, 53, 'Profesional', 'soltera', 2, 'femenino', 2.9, 'Region_4'), (179, 36, 'Secundaria', 'divorciada', 2, 'no binario', 1.5, 'Region_2'), (180, 39, 'Secundaria', 'soltera', 3, 'no binario', 3.6, 'Region_2'), (181, 57, 'Secundaria', 'casada', 1, 'masculino', 2.3, 'Region_4'), (182, 62, 'Secundaria', 'soltera', 4, 'femenino', 3.0, 'Region_4'), (183, 42, 'Profesional', 'casada', 2, 'femenino', 3.0, 'Region_1'), (184, 51, 'Secundaria', 'casada', 3, 'femenino', 1.3, 'Region_1'), (185, 57, 'Secundaria', 'casada', 1, 'masculino', 1.1, 'Region_2'), (186, 67, 'Secundaria', 'casada', 3, 'masculino', 3.3, 'Region_1'), (187, 52, 'Secundaria', 'divorciada', 2, 'masculino', 2.4, 'Region_1'), (188, 58, 'Secundaria', 'divorciada', 2, 'femenino', 3.1, 'Region_4'), (189, 36, 'Primaria', 'casada', 3, 'masculino', 3.9, 'Region_2'), (190, 27, 'Secundaria', 'soltera', 2, 'femenino', 2.8, 'Region_3'), (191, 70, 'Profesional', 'casada', 3, 'masculino', 3.1, 'Region_4'), (192, 21, 'Secundaria', 'soltera', 2, 'femenino', 3.0, 'Region_2'), (193, 55, 'Secundaria', 'casada', 3, 'femenino', 1.3, 'Region_2'), (194, 50, 'Secundaria', 'casada', 1, 'femenino', 3.9, 'Region_4'), (195, 46, 'Secundaria', 'casada', 2, 'masculino', 3.8, 'Region_3'), (196, 75, 'Secundaria', 'casada', 4, 'otro', 3.1, 'Region_5'), (197, 54, 'Profesional', 'soltera', 5, 'masculino', 2.4, 'Region_4'), (198, 80, 'Secundaria', 'soltera', 1, 'femenino', 2.2, 'Region_4'), (199, 61, 'Maestria', 'casada', 3, 'masculino', 2.4, 'Region_3'), (200, 78, 'Secundaria', 'casada', 2, 'masculino', 2.4, 'Region_4'), (201, 21, 'Secundaria', 'soltera', 2, 'femenino', 0.9, 'Region_2'), (202, 76, 'Profesional', 'casada', 1, 'masculino', 3.4, 'Region_1'), (203, 61, 'Secundaria', 'divorciada', 3, 'masculino', 3.7, 'Region_4'), (204, 67, 'Secundaria', 'casada', 2, 'masculino', 2.8, 'Region_1'), (205, 66, 'Profesional', 'casada', 3, 'femenino', 2.5, 'Region_4'), (206, 27, 'Profesional', 'divorciada', 3, 'masculino', 2.1, 'Region_3'), (207, 74, 'Profesional', 'casada', 4, 'femenino', 2.3, 'Region_1'), (208, 21, 'Profesional', 'casada', 2, 'femenino', 4.9, 'Region_1'), (209, 21, 'Profesional', 'casada', 2, 'femenino', 1.3, 'Region_4'), (210, 55, 'Secundaria', 'casada', 1, 'femenino', 2.5, 'Region_1'), (211, 45, 'Profesional', 'casada', 3, 'femenino', 3.6, 'Region_1'), (212, 21, 'Profesional', 'casada', 2, 'masculino', 0.2, 'Region_4'), (213, 22, 'Maestria', 'casada', 2, 'masculino', 3.0, 'Region_1'), (214, 30, 'Secundaria', 'divorciada', 1, 'femenino', 4.1, 'Region_4'), (215, 64, 'Secundaria', 'casada', 1, 'masculino', 3.2, 'Region_3'), (216, 78, 'Secundaria', 'soltera', 3, 'masculino', 2.3, 'Region_4'), (217, 52, 'Maestria', 'soltera', 1, 'femenino', 2.7, 'Region_2'), (218, 61, 'Secundaria', 'divorciada', 1, 'femenino', 2.6, 'Region_2'), (219, 19, 'Secundaria', 'casada', 2, 'femenino', 2.9, 'Region_4'), (220, 53, 'Secundaria', 'casada', 3, 'masculino', 1.8, 'Region_4'), (221, 43, 'Secundaria', 'divorciada', 4, 'femenino', 2.9, 'Region_5'), (222, 66, 'Profesional', 'divorciada', 2, 'masculino', 2.0, 'Region_3'), (223, 34, 'Profesional', 'soltera', 2, 'masculino', 4.4, 'Region_1'), (224, 43, 'Secundaria', 'soltera', 2, 'femenino', 2.4, 'Region_4'), (225, 70, 'Secundaria', 'soltera', 3, 'femenino', 3.3, 'Region_1'), (226, 27, 'Profesional', 'divorciada', 2, 'femenino', 1.0, 'Region_4'), (227, 53, 'Profesional', 'divorciada', 3, 'femenino', 2.1, 'Region_4'), (228, 40, 'Secundaria', 'casada', 3, 'no binario', 2.1, 'Region_1'), (229, 32, 'Secundaria', 'casada', 3, 'femenino', 3.0, 'Region_3'), (230, 33, 'Secundaria', 'soltera', 2, 'femenino', 2.4, 'Region_4'), (231, 63, 'Profesional', 'soltera', 1, 'femenino', 3.0, 'Region_1'), (232, 69, 'Secundaria', 'divorciada', 3, 'no binario', 1.3, 'Region_2'), (233, 22, 'Profesional', 'divorciada', 1, 'femenino', 1.4, 'Region_4'), (234, 58, 'Secundaria', 'soltera', 3, 'masculino', 3.2, 'Region_1'), (235, 23, 'Secundaria', 'soltera', 1, 'femenino', 3.3, 'Region_2'), (236, 44, 'Profesional', 'viuda', 3, 'femenino', 2.5, 'Region_4'), (237, 65, 'Secundaria', 'soltera', 3, 'femenino', 2.6, 'Region_1'), (238, 20, 'Secundaria', 'divorciada', 2, 'femenino', 1.6, 'Region_4'), (239, 39, 'Secundaria', 'casada', 2, 'masculino', 1.1, 'Region_4'), (240, 54, 'Secundaria', 'casada', 1, 'femenino', 2.4, 'Region_4'), (241, 24, 'Secundaria', 'casada', 2, 'masculino', 3.8, 'Region_2'), (242, 54, 'Secundaria', 'divorciada', 3, 'no binario', 0.5, 'Region_5'), (243, 50, 'Profesional', 'casada', 5, 'femenino', 3.3, 'Region_4'), (244, 59, 'Secundaria', 'divorciada', 2, 'femenino', 5.0, 'Region_4'), (245, 20, 'Secundaria', 'divorciada', 1, 'masculino', 2.1, 'Region_1'), (246, 19, 'Secundaria', 'soltera', 2, 'femenino', 2.0, 'Region_4'), (247, 19, 'Secundaria', 'casada', 2, 'masculino', 0.5, 'Region_2'), (248, 36, 'Secundaria', 'soltera', 3, 'masculino', 3.4, 'Region_1'), (249, 48, 'Secundaria', 'divorciada', 1, 'masculino', 3.5, 'Region_2'), (250, 59, 'Primaria', 'casada', 3, 'masculino', 0.3, 'Region_1'), (251, 25, 'Secundaria', 'divorciada', 1, 'femenino', 4.0, 'Region_2'), (252, 74, 'Secundaria', 'soltera', 4, 'masculino', 0.4, 'Region_2'), (253, 36, 'Profesional', 'divorciada', 2, 'femenino', 3.5, 'Region_2'), (254, 57, 'Secundaria', 'soltera', 1, 'masculino', 4.0, 'Region_2'), (255, 66, 'Secundaria', 'divorciada', 3, 'masculino', 3.5, 'Region_4'), (256, 60, 'Secundaria', 'divorciada', 2, 'femenino', 1.4, 'Region_4'), (257, 56, 'Secundaria', 'casada', 3, 'femenino', 4.2, 'Region_4'), (258, 48, 'Secundaria', 'divorciada', 3, 'femenino', 1.1, 'Region_2'), (259, 68, 'Secundaria', 'casada', 3, 'masculino', 2.0, 'Region_1'), (260, 60, 'Secundaria', 'soltera', 5, 'no binario', 4.8, 'Region_1'), (261, 50, 'Secundaria', 'soltera', 2, 'no binario', 0.8, 'Region_1'), (262, 30, 'Secundaria', 'divorciada', 2, 'femenino', 2.5, 'Region_3'), (263, 36, 'Secundaria', 'casada', 2, 'femenino', 4.2, 'Region_2'), (264, 78, 'Profesional', 'divorciada', 2, 'masculino', 1.9, 'Region_4'), (265, 75, 'Secundaria', 'divorciada', 2, 'masculino', 0.9, 'Region_1'), (266, 36, 'Profesional', 'casada', 1, 'masculino', 3.0, 'Region_4'), (267, 80, 'Secundaria', 'soltera', 3, 'masculino', 3.2, 'Region_1'), (268, 48, 'Secundaria', 'casada', 3, 'femenino', 1.0, 'Region_2'), (269, 74, 'Secundaria', 'soltera', 3, 'femenino', 1.9, 'Region_1'), (270, 47, 'Secundaria', 'soltera', 1, 'masculino', 2.6, 'Region_4'), (271, 40, 'Secundaria', 'divorciada', 2, 'masculino', 3.3, 'Region_2'), (272, 71, 'Secundaria', 'soltera', 4, 'femenino', 2.3, 'Region_1'), (273, 57, 'Secundaria', 'divorciada', 2, 'masculino', 3.0, 'Region_4'), (274, 46, 'Secundaria', 'soltera', 3, 'femenino', 3.0, 'Region_1'), (275, 77, 'Secundaria', 'soltera', 2, 'masculino', 2.0, 'Region_4'), (276, 29, 'Secundaria', 'divorciada', 3, 'masculino', 1.0, 'Region_1'), (277, 77, 'Secundaria', 'divorciada', 2, 'masculino', 1.5, 'Region_4'), (278, 65, 'Secundaria', 'viuda', 4, 'masculino', 2.0, 'Region_3'), (279, 35, 'Secundaria', 'casada', 3, 'femenino', 2.9, 'Region_2'), (280, 29, 'Profesional', 'soltera', 1, 'masculino', 0.7, 'Region_4'), (281, 36, 'Secundaria', 'soltera', 2, 'femenino', 1.2, 'Region_5'), (282, 53, 'Secundaria', 'casada', 1, 'masculino', 4.0, 'Region_1'), (283, 22, 'Secundaria', 'soltera', 4, 'femenino', 1.9, 'Region_1'), (284, 28, 'Secundaria', 'divorciada', 1, 'no binario', 4.8, 'Region_1'), (285, 61, 'Secundaria', 'divorciada', 3, 'femenino', 1.4, 'Region_4'), (286, 40, 'Secundaria', 'casada', 4, 'no binario', 2.7, 'Region_1'), (287, 57, 'Primaria', 'soltera', 1, 'femenino', 2.7, 'Region_3'), (288, 20, 'Secundaria', 'soltera', 1, 'femenino', 4.3, 'Region_2'), (289, 43, 'Secundaria', 'soltera', 1, 'femenino', 0.6, 'Region_1'), (290, 54, 'Secundaria', 'casada', 1, 'masculino', 4.0, 'Region_2'), (291, 54, 'Profesional', 'casada', 1, 'masculino', 1.1, 'Region_2'), (292, 18, 'Profesional', 'casada', 3, 'masculino', 3.7, 'Region_4'), (293, 75, 'Secundaria', 'divorciada', 3, 'femenino', 2.3, 'Region_4'), (294, 45, 'Secundaria', 'divorciada', 3, 'femenino', 2.1, 'Region_4'), (295, 39, 'Primaria', 'divorciada', 3, 'femenino', 3.7, 'Region_2'), (296, 41, 'Profesional', 'soltera', 2, 'masculino', 3.0, 'Region_4'), (297, 56, 'Secundaria', 'casada', 5, 'femenino', 2.4, 'Region_4'), (298, 71, 'Profesional', 'soltera', 3, 'femenino', 2.2, 'Region_4'), (299, 54, 'Secundaria', 'soltera', 2, 'femenino', 3.0, 'Region_2'), (300, 58, 'Maestria', 'casada', 1, 'masculino', 3.0, 'Region_4'), (301, 79, 'Secundaria', 'casada', 3, 'femenino', 3.5, 'Region_2'), (302, 30, 'Secundaria', 'casada', 4, 'masculino', 0.9, 'Region_5'), (303, 75, 'Secundaria', 'viuda', 3, 'no binario', 3.5, 'Region_1'), (304, 45, 'Secundaria', 'soltera', 2, 'femenino', 2.7, 'Region_3'), (305, 38, 'Secundaria', 'divorciada', 2, 'femenino', 3.0, 'Region_1'), (306, 55, 'Secundaria', 'soltera', 1, 'masculino', 3.7, 'Region_1'), (307, 24, 'Primaria', 'casada', 3, 'femenino', 1.0, 'Region_3'), (308, 68, 'Profesional', 'casada', 3, 'femenino', 3.0, 'Region_2'), (309, 30, 'Secundaria', 'divorciada', 2, 'femenino', 4.4, 'Region_4'), (310, 24, 'Profesional', 'divorciada', 1, 'femenino', 0.9, 'Region_2'), (311, 52, 'Secundaria', 'casada', 3, 'femenino', 2.7, 'Region_4'), (312, 29, 'Profesional', 'soltera', 3, 'masculino', 3.6, 'Region_1'), (313, 76, 'Profesional', 'soltera', 3, 'masculino', 2.5, 'Region_2'), (314, 25, 'Profesional', 'soltera', 1, 'no binario', 2.2, 'Region_2'), (315, 58, 'Secundaria', 'soltera', 2, 'femenino', 3.6, 'Region_1'), (316, 65, 'Profesional', 'soltera', 2, 'masculino', 1.9, 'Region_4'), (317, 53, 'Profesional', 'casada', 3, 'femenino', 3.1, 'Region_4'), (318, 64, 'Secundaria', 'soltera', 1, 'no binario', 0.2, 'Region_2'), (319, 32, 'Profesional', 'soltera', 1, 'femenino', 3.1, 'Region_4'), (320, 74, 'Profesional', 'soltera', 3, 'masculino', 4.0, 'Region_4'), (321, 18, 'Secundaria', 'casada', 4, 'masculino', 2.3, 'Region_3'), (322, 52, 'Maestria', 'viuda', 1, 'femenino', 3.8, 'Region_1'), (323, 48, 'Profesional', 'divorciada', 2, 'femenino', 1.3, 'Region_3'), (324, 65, 'Profesional', 'casada', 3, 'femenino', 3.5, 'Region_4'), (325, 42, 'Secundaria', 'divorciada', 4, 'femenino', 1.2, 'Region_2'), (326, 77, 'Secundaria', 'viuda', 3, 'femenino', 2.6, 'Region_2'), (327, 31, 'Profesional', 'casada', 3, 'femenino', 3.2, 'Region_4'), (328, 63, 'Secundaria', 'soltera', 3, 'masculino', 2.6, 'Region_1'), (329, 35, 'Profesional', 'casada', 2, 'femenino', 1.9, 'Region_4'), (330, 48, 'Secundaria', 'soltera', 2, 'masculino', 3.0, 'Region_1'), (331, 71, 'Primaria', 'casada', 2, 'masculino', 3.7, 'Region_1'), (332, 48, 'Secundaria', 'divorciada', 1, 'femenino', 3.6, 'Region_4'), (333, 70, 'Secundaria', 'casada', 3, 'masculino', 1.1, 'Region_2'), (334, 57, 'Primaria', 'divorciada', 1, 'femenino', 2.8, 'Region_4'), (335, 32, 'Primaria', 'soltera', 1, 'masculino', 2.0, 'Region_4'), (336, 45, 'Maestria', 'casada', 3, 'femenino', 3.2, 'Region_4'), (337, 68, 'Secundaria', 'casada', 2, 'masculino', 3.5, 'Region_1'), (338, 23, 'Profesional', 'divorciada', 2, 'femenino', 4.0, 'Region_2'), (339, 26, 'Secundaria', 'soltera', 2, 'masculino', 3.6, 'Region_1'), (340, 37, 'Secundaria', 'soltera', 3, 'masculino', 2.3, 'Region_1'), (341, 34, 'Secundaria', 'soltera', 2, 'femenino', 3.0, 'Region_4'), (342, 27, 'Secundaria', 'casada', 2, 'masculino', 3.6, 'Region_4'), (343, 49, 'Profesional', 'casada', 2, 'femenino', 1.9, 'Region_3'), (344, 57, 'Secundaria', 'divorciada', 3, 'femenino', 0.6, 'Region_2'), (345, 42, 'Secundaria', 'soltera', 2, 'masculino', 2.0, 'Region_1'), (346, 67, 'Secundaria', 'casada', 2, 'femenino', 0.6, 'Region_2'), (347, 70, 'Secundaria', 'soltera', 2, 'femenino', 0.9, 'Region_4'), (348, 59, 'Profesional', 'divorciada', 1, 'no binario', 3.3, 'Region_2'), (349, 29, 'Secundaria', 'soltera', 3, 'femenino', 2.1, 'Region_1'), (350, 20, 'Secundaria', 'soltera', 2, 'masculino', 2.7, 'Region_1'), (351, 42, 'Secundaria', 'divorciada', 4, 'femenino', 2.5, 'Region_4'), (352, 18, 'Secundaria', 'divorciada', 5, 'masculino', 2.9, 'Region_4'), (353, 48, 'Primaria', 'casada', 2, 'femenino', 3.5, 'Region_4'), (354, 41, 'Secundaria', 'casada', 2, 'femenino', 2.9, 'Region_4'), (355, 77, 'Secundaria', 'soltera', 5, 'masculino', 1.6, 'Region_4'), (356, 68, 'Maestria', 'soltera', 2, 'femenino', 4.4, 'Region_2'), (357, 79, 'Secundaria', 'divorciada', 2, 'femenino', 3.9, 'Region_1'), (358, 49, 'Secundaria', 'casada', 1, 'masculino', 3.5, 'Region_4'), (359, 24, 'Secundaria', 'casada', 3, 'masculino', 3.2, 'Region_1'), (360, 24, 'Secundaria', 'casada', 1, 'femenino', 2.0, 'Region_1'), (361, 23, 'Profesional', 'soltera', 5, 'femenino', 2.2, 'Region_2'), (362, 73, 'Profesional', 'divorciada', 1, 'no binario', 4.0, 'Region_2'), (363, 27, 'Secundaria', 'casada', 3, 'masculino', 2.9, 'Region_4'), (364, 32, 'Secundaria', 'casada', 1, 'femenino', 4.9, 'Region_2'), (365, 80, 'Secundaria', 'soltera', 4, 'masculino', 2.6, 'Region_3'), (366, 39, 'Profesional', 'casada', 3, 'masculino', 2.2, 'Region_4'), (367, 74, 'Profesional', 'divorciada', 2, 'femenino', 3.8, 'Region_1'), (368, 47, 'Profesional', 'divorciada', 2, 'femenino', 3.7, 'Region_4'), (369, 44, 'Profesional', 'soltera', 1, 'femenino', 3.6, 'Region_2'), (370, 54, 'Secundaria', 'divorciada', 2, 'no binario', 3.0, 'Region_4'), (371, 46, 'Profesional', 'divorciada', 2, 'femenino', 3.4, 'Region_2'), (372, 77, 'Profesional', 'casada', 4, 'masculino', 2.6, 'Region_2'), (373, 55, 'Secundaria', 'divorciada', 4, 'masculino', 2.0, 'Region_4'), (374, 34, 'Secundaria', 'soltera', 3, 'otro', 2.4, 'Region_1'), (375, 74, 'Profesional', 'soltera', 3, 'masculino', 3.9, 'Region_1'), (376, 21, 'Secundaria', 'casada', 3, 'no binario', 1.5, 'Region_5'), (377, 69, 'Secundaria', 'soltera', 1, 'masculino', 5.0, 'Region_2'), (378, 69, 'Secundaria', 'casada', 1, 'femenino', 3.9, 'Region_4'), (379, 62, 'Secundaria', 'divorciada', 4, 'femenino', 3.7, 'Region_1'), (380, 35, 'Secundaria', 'casada', 3, 'masculino', 1.2, 'Region_4'), (381, 21, 'Primaria', 'divorciada', 2, 'masculino', 1.8, 'Region_4'), (382, 24, 'Secundaria', 'soltera', 1, 'masculino', 0.4, 'Region_1'), (383, 75, 'Secundaria', 'divorciada', 2, 'femenino', 2.5, 'Region_2'), (384, 67, 'Secundaria', 'divorciada', 3, 'femenino', 0.0, 'Region_4'), (385, 71, 'Secundaria', 'casada', 4, 'masculino', 3.4, 'Region_2'), (386, 49, 'Secundaria', 'soltera', 1, 'masculino', 4.7, 'Region_2'), (387, 28, 'Secundaria', 'divorciada', 2, 'femenino', 3.6, 'Region_2'), (388, 56, 'Secundaria', 'casada', 1, 'masculino', 2.0, 'Region_1'), (389, 58, 'Secundaria', 'soltera', 2, 'masculino', 2.2, 'Region_1'), (390, 68, 'Profesional', 'casada', 4, 'masculino', 1.7, 'Region_1'), (391, 42, 'Secundaria', 'divorciada', 2, 'femenino', 3.1, 'Region_1'), (392, 60, 'Primaria', 'casada', 3, 'masculino', 2.4, 'Region_2'), (393, 44, 'Primaria', 'divorciada', 4, 'masculino', 3.1, 'Region_1'), (394, 37, 'Secundaria', 'casada', 4, 'femenino', 0.0, 'Region_1'), (395, 69, 'Profesional', 'divorciada', 4, 'masculino', 4.8, 'Region_1'), (396, 75, 'Secundaria', 'casada', 2, 'masculino', 2.7, 'Region_1'), (397, 27, 'Primaria', 'soltera', 2, 'femenino', 1.1, 'Region_2'), (398, 57, 'Secundaria', 'soltera', 3, 'femenino', 3.5, 'Region_2'), (399, 52, 'Secundaria', 'casada', 1, 'masculino', 4.3, 'Region_1'), (400, 22, 'Secundaria', 'divorciada', 3, 'femenino', 1.0, 'Region_4'), (401, 76, 'Profesional', 'soltera', 3, 'no binario', 3.7, 'Region_1'), (402, 48, 'Secundaria', 'soltera', 2, 'masculino', 2.1, 'Region_4'), (403, 78, 'Secundaria', 'casada', 3, 'masculino', 1.8, 'Region_2'), (404, 79, 'Profesional', 'casada', 2, 'masculino', 3.2, 'Region_2'), (405, 28, 'Secundaria', 'casada', 4, 'femenino', 2.2, 'Region_1'), (406, 50, 'Profesional', 'casada', 2, 'femenino', 0.1, 'Region_1'), (407, 35, 'Secundaria', 'divorciada', 1, 'femenino', 1.6, 'Region_2'), (408, 66, 'Secundaria', 'soltera', 2, 'femenino', 3.0, 'Region_1'), (409, 66, 'Profesional', 'divorciada', 3, 'masculino', 2.8, 'Region_4'), (410, 58, 'Secundaria', 'divorciada', 2, 'femenino', 4.5, 'Region_1'), (411, 22, 'Secundaria', 'casada', 2, 'masculino', 2.0, 'Region_3'), (412, 23, 'Secundaria', 'divorciada', 3, 'femenino', 1.0, 'Region_2'), (413, 74, 'Secundaria', 'soltera', 1, 'masculino', 1.0, 'Region_1'), (414, 38, 'Secundaria', 'soltera', 2, 'no binario', 2.9, 'Region_4'), (415, 31, 'Primaria', 'casada', 3, 'femenino', 1.5, 'Region_4'), (416, 39, 'Secundaria', 'soltera', 2, 'femenino', 1.2, 'Region_4'), (417, 55, 'Secundaria', 'casada', 3, 'masculino', 3.2, 'Region_1'), (418, 18, 'Secundaria', 'casada', 2, 'femenino', 0.2, 'Region_5'), (419, 66, 'Primaria', 'casada', 3, 'masculino', 2.1, 'Region_2'), (420, 30, 'Secundaria', 'casada', 2, 'masculino', 2.5, 'Region_4'), (421, 57, 'Secundaria', 'casada', 3, 'masculino', 1.9, 'Region_1'), (422, 28, 'Secundaria', 'divorciada', 1, 'masculino', 2.9, 'Region_1'), (423, 50, 'Secundaria', 'soltera', 1, 'masculino', 4.2, 'Region_3'), (424, 24, 'Secundaria', 'casada', 3, 'no binario', 0.5, 'Region_4'), (425, 76, 'Secundaria', 'divorciada', 2, 'masculino', 0.2, 'Region_1'), (426, 18, 'Secundaria', 'casada', 2, 'masculino', 0.6, 'Region_2'), (427, 44, 'Profesional', 'divorciada', 2, 'femenino', 3.1, 'Region_2'), (428, 80, 'Primaria', 'casada', 1, 'no binario', 3.1, 'Region_1'), (429, 54, 'Profesional', 'casada', 3, 'masculino', 4.2, 'Region_1'), (430, 43, 'Profesional', 'soltera', 3, 'femenino', 2.7, 'Region_2'), (431, 50, 'Secundaria', 'casada', 2, 'femenino', 3.0, 'Region_2'), (432, 79, 'Secundaria', 'casada', 5, 'masculino', 1.0, 'Region_1'), (433, 67, 'Secundaria', 'soltera', 2, 'masculino', 2.5, 'Region_4'), (434, 63, 'Secundaria', 'casada', 3, 'femenino', 4.0, 'Region_4'), (435, 53, 'Secundaria', 'soltera', 1, 'masculino', 4.0, 'Region_4'), (436, 71, 'Secundaria', 'casada', 1, 'masculino', 0.3, 'Region_4'), (437, 19, 'Secundaria', 'casada', 3, 'masculino', 0.3, 'Region_4'), (438, 38, 'Secundaria', 'soltera', 3, 'masculino', 2.9, 'Region_4'), (439, 53, 'Profesional', 'casada', 2, 'no binario', 2.1, 'Region_4'), (440, 65, 'Profesional', 'casada', 3, 'femenino', 2.0, 'Region_4'), (441, 20, 'Secundaria', 'soltera', 2, 'masculino', 2.5, 'Region_2'), (442, 45, 'Secundaria', 'divorciada', 1, 'masculino', 1.1, 'Region_1'), (443, 25, 'Maestria', 'casada', 3, 'femenino', 3.6, 'Region_4'), (444, 75, 'Secundaria', 'soltera', 3, 'masculino', 3.1, 'Region_4'), (445, 66, 'Profesional', 'soltera', 1, 'femenino', 3.1, 'Region_1'), (446, 25, 'Maestria', 'casada', 2, 'femenino', 1.7, 'Region_1'), (447, 24, 'Secundaria', 'divorciada', 2, 'masculino', 3.0, 'Region_4'), (448, 33, 'Secundaria', 'casada', 2, 'femenino', 3.5, 'Region_1'), (449, 43, 'Profesional', 'casada', 3, 'femenino', 1.3, 'Region_4'), (450, 66, 'Secundaria', 'casada', 2, 'femenino', 1.7, 'Region_2'), (451, 33, 'Profesional', 'divorciada', 3, 'femenino', 3.4, 'Region_4'), (452, 46, 'Secundaria', 'soltera', 1, 'femenino', 3.2, 'Region_1'), (453, 53, 'Secundaria', 'casada', 2, 'masculino', 4.5, 'Region_1'), (454, 36, 'Profesional', 'casada', 3, 'femenino', 4.2, 'Region_4'), (455, 50, 'Secundaria', 'casada', 3, 'masculino', 4.1, 'Region_4'), (456, 76, 'Secundaria', 'soltera', 1, 'femenino', 3.5, 'Region_4'), (457, 80, 'Secundaria', 'divorciada', 2, 'otro', 3.0, 'Region_5'), (458, 74, 'Profesional', 'soltera', 1, 'masculino', 0.1, 'Region_2'), (459, 64, 'Secundaria', 'casada', 2, 'masculino', 3.8, 'Region_1'), (460, 22, 'Profesional', 'divorciada', 2, 'no binario', 0.2, 'Region_1'), (461, 41, 'Secundaria', 'soltera', 1, 'femenino', 3.4, 'Region_4'), (462, 20, 'Profesional', 'casada', 5, 'femenino', 2.0, 'Region_4'), (463, 75, 'Maestria', 'viuda', 1, 'femenino', 3.3, 'Region_4'), (464, 54, 'Secundaria', 'casada', 2, 'masculino', 1.9, 'Region_2'), (465, 72, 'Secundaria', 'casada', 3, 'masculino', 0.7, 'Region_4'), (466, 38, 'Secundaria', 'casada', 2, 'masculino', 1.3, 'Region_1'), (467, 24, 'Secundaria', 'soltera', 1, 'femenino', 3.7, 'Region_4'), (468, 67, 'Secundaria', 'soltera', 3, 'no binario', 3.5, 'Region_4'), (469, 32, 'Secundaria', 'casada', 1, 'femenino', 2.3, 'Region_4'), (470, 50, 'Secundaria', 'viuda', 3, 'femenino', 2.7, 'Region_4'), (471, 35, 'Secundaria', 'divorciada', 3, 'femenino', 3.4, 'Region_4'), (472, 21, 'Secundaria', 'soltera', 3, 'masculino', 4.9, 'Region_2'), (473, 54, 'Profesional', 'divorciada', 3, 'masculino', 3.7, 'Region_2'), (474, 64, 'Secundaria', 'casada', 2, 'masculino', 1.8, 'Region_4'), (475, 29, 'Secundaria', 'casada', 2, 'masculino', 2.4, 'Region_4'), (476, 29, 'Secundaria', 'soltera', 2, 'masculino', 3.2, 'Region_4'), (477, 38, 'Secundaria', 'casada', 2, 'masculino', 0.6, 'Region_1'), (478, 47, 'Secundaria', 'divorciada', 3, 'masculino', 3.4, 'Region_4'), (479, 27, 'Secundaria', 'casada', 2, 'femenino', 4.6, 'Region_5'), (480, 73, 'Secundaria', 'casada', 3, 'femenino', 3.2, 'Region_4'), (481, 26, 'Secundaria', 'viuda', 1, 'masculino', 2.2, 'Region_1'), (482, 69, 'Secundaria', 'soltera', 4, 'femenino', 2.2, 'Region_2'), (483, 35, 'Secundaria', 'divorciada', 2, 'masculino', 3.5, 'Region_4'), (484, 70, 'Secundaria', 'divorciada', 3, 'masculino', 2.2, 'Region_1'), (485, 25, 'Profesional', 'soltera', 3, 'femenino', 1.4, 'Region_2'), (486, 19, 'Secundaria', 'soltera', 2, 'femenino', 0.1, 'Region_4'), (487, 80, 'Secundaria', 'soltera', 2, 'femenino', 3.1, 'Region_1'), (488, 60, 'Primaria', 'soltera', 3, 'femenino', 0.2, 'Region_2'), (489, 39, 'Secundaria', 'soltera', 3, 'masculino', 3.3, 'Region_5'), (490, 76, 'Secundaria', 'casada', 1, 'masculino', 3.7, 'Region_4'), (491, 34, 'Secundaria', 'casada', 3, 'masculino', 2.0, 'Region_1'), (492, 59, 'Profesional', 'casada', 2, 'masculino', 4.9, 'Region_4'), (493, 49, 'Profesional', 'casada', 2, 'masculino', 3.4, 'Region_1'), (494, 23, 'Secundaria', 'divorciada', 1, 'masculino', 0.8, 'Region_1'), (495, 34, 'Secundaria', 'soltera', 1, 'masculino', 2.4, 'Region_4'), (496, 23, 'Secundaria', 'casada', 5, 'femenino', 2.1, 'Region_4'), (497, 24, 'Secundaria', 'viuda', 1, 'femenino', 2.9, 'Region_1'), (498, 50, 'Profesional', 'casada', 1, 'no binario', 2.1, 'Region_1'), (499, 54, 'Secundaria', 'divorciada', 2, 'femenino', 2.7, 'Region_1'), (500, 66, 'Secundaria', 'casada', 2, 'femenino', 3.0, 'Region_2')]\n"
     ]
    }
   ],
   "source": [
    "# Implementa tu respuesta en esta celda\n",
    "archivo_edad=open(\"./Archivos/edad.txt\",\"r\",encoding=\"UTF-8\")\n",
    "archivo_escolaridad=open(\"./Archivos/escolaridad.txt\",\"r\",encoding=\"UTF-8\")\n",
    "archivo_estado=open(\"./Archivos/estado_civil.txt\",\"r\",encoding=\"UTF-8\")\n",
    "archivo_estrato=open(\"./Archivos/estrato.txt\",\"r\",encoding=\"UTF-8\")\n",
    "archivo_genero=open(\"./Archivos/genero.txt\",\"r\",encoding=\"UTF-8\")\n",
    "archivo_promedio=open(\"./Archivos/promedio.txt\",\"r\",encoding=\"UTF-8\")\n",
    "archivo_region=open(\"./Archivos/region.txt\",\"r\",encoding=\"UTF-8\")\n",
    "\n",
    "lista=[]\n",
    "tupla=(archivo_edad,archivo_escolaridad,archivo_estado,archivo_estrato,archivo_genero,archivo_promedio,archivo_region)\n",
    "num=0\n",
    "\n",
    "for x in range(1,501):\n",
    "    for num in range(0,7):\n",
    "        for y in (tupla[num]):\n",
    "            lista.append(y.strip())\n",
    "            break\n",
    "\n",
    "aux=[]\n",
    "c=0\n",
    "while(c<=500):\n",
    "    c+=1\n",
    "\n",
    "    for i in lista[0:7]:\n",
    "        lista[0]=int(lista[0])\n",
    "        lista[3]=int(lista[3])\n",
    "        lista[5]=float(lista[5])\n",
    "        \n",
    "\n",
    "    tupla1=(c,lista[0],lista[1],lista[2],lista[3],lista[4],lista[5],lista[6])\n",
    "    aux.append(tupla1)\n",
    "\n",
    "    \n",
    "    lista.pop(0)\n",
    "    lista.pop(0)\n",
    "    lista.pop(0)\n",
    "    lista.pop(0)\n",
    "    lista.pop(0)\n",
    "    lista.pop(0)\n",
    "    lista.pop(0)\n",
    "\n",
    "    if(c==500):\n",
    "        break\n",
    "\n",
    "\n",
    "\n",
    "\n",
    "print(aux)\n",
    "\n"
   ]
  },
  {
   "cell_type": "markdown",
   "metadata": {},
   "source": [
    "### Misión 2"
   ]
  },
  {
   "cell_type": "markdown",
   "metadata": {},
   "source": [
    "**Versión base**: calcula estadísticas descriptivas básicas (por lo menos, media/mediana y varianza/desviación) para cada variable relevante en el contexto del problema y repórtalas concluyendo acerca de las principales características de los datos."
   ]
  },
  {
   "cell_type": "markdown",
   "metadata": {},
   "source": [
    "**Versión completa**: complementa la **versión base** con visualizaciones informativas sobre los datos (ej., histogramas, gráficos de dispersión, boxplots, etc.), relevantes para el problema."
   ]
  },
  {
   "cell_type": "code",
   "execution_count": 2,
   "metadata": {},
   "outputs": [
    {
     "name": "stdout",
     "output_type": "stream",
     "text": [
      "\n",
      "Numero de filas = 500\n",
      "promedio = 48.748\n",
      "mediana = 49.0\n",
      "varianza = 345.76849599999997\n",
      "desviacion estandar = 18.59485133040864\n",
      "rango = 62 \n",
      "Edad None\n",
      "\n",
      "Numero de filas = 500\n",
      "promedio = 2.308\n",
      "mediana = 25.5\n",
      "varianza = 0.9531359999999962\n",
      "desviacion estandar = 0.9762868430947926\n",
      "rango = 4 \n",
      "Estrato None\n",
      "\n",
      "Numero de filas = 500\n",
      "promedio = 2.6212000000000004\n",
      "mediana = 25.85\n",
      "varianza = 1.2452705600000027\n",
      "desviacion estandar = 1.1159169144698913\n",
      "rango = 5.0 \n",
      "promedio None\n"
     ]
    },
    {
     "ename": "AttributeError",
     "evalue": "module 'matplotlib' has no attribute 'hist'",
     "output_type": "error",
     "traceback": [
      "\u001b[0;31m---------------------------------------------------------------------------\u001b[0m",
      "\u001b[0;31mAttributeError\u001b[0m                            Traceback (most recent call last)",
      "\u001b[0;32m<ipython-input-2-e57c2e48aa15>\u001b[0m in \u001b[0;36m<module>\u001b[0;34m\u001b[0m\n\u001b[1;32m     41\u001b[0m \u001b[0mprint\u001b[0m\u001b[0;34m(\u001b[0m\u001b[0;34m\"promedio\"\u001b[0m\u001b[0;34m,\u001b[0m\u001b[0mdescriptive_stadistic\u001b[0m\u001b[0;34m(\u001b[0m\u001b[0mpromedio\u001b[0m\u001b[0;34m)\u001b[0m\u001b[0;34m)\u001b[0m\u001b[0;34m\u001b[0m\u001b[0;34m\u001b[0m\u001b[0m\n\u001b[1;32m     42\u001b[0m \u001b[0;31m#histograma\u001b[0m\u001b[0;34m\u001b[0m\u001b[0;34m\u001b[0m\u001b[0;34m\u001b[0m\u001b[0m\n\u001b[0;32m---> 43\u001b[0;31m \u001b[0mplt\u001b[0m\u001b[0;34m.\u001b[0m\u001b[0mhist\u001b[0m\u001b[0;34m(\u001b[0m\u001b[0medad\u001b[0m\u001b[0;34m)\u001b[0m\u001b[0;34m\u001b[0m\u001b[0;34m\u001b[0m\u001b[0m\n\u001b[0m\u001b[1;32m     44\u001b[0m \u001b[0mplt\u001b[0m\u001b[0;34m.\u001b[0m\u001b[0mshow\u001b[0m\u001b[0;34m(\u001b[0m\u001b[0;34m)\u001b[0m\u001b[0;34m\u001b[0m\u001b[0;34m\u001b[0m\u001b[0m\n",
      "\u001b[0;32m/opt/conda/lib/python3.7/site-packages/matplotlib/_api/__init__.py\u001b[0m in \u001b[0;36m__getattr__\u001b[0;34m(name)\u001b[0m\n\u001b[1;32m    221\u001b[0m             \u001b[0;32mreturn\u001b[0m \u001b[0mprops\u001b[0m\u001b[0;34m[\u001b[0m\u001b[0mname\u001b[0m\u001b[0;34m]\u001b[0m\u001b[0;34m.\u001b[0m\u001b[0m__get__\u001b[0m\u001b[0;34m(\u001b[0m\u001b[0minstance\u001b[0m\u001b[0;34m)\u001b[0m\u001b[0;34m\u001b[0m\u001b[0;34m\u001b[0m\u001b[0m\n\u001b[1;32m    222\u001b[0m         raise AttributeError(\n\u001b[0;32m--> 223\u001b[0;31m             f\"module {cls.__module__!r} has no attribute {name!r}\")\n\u001b[0m\u001b[1;32m    224\u001b[0m \u001b[0;34m\u001b[0m\u001b[0m\n\u001b[1;32m    225\u001b[0m     \u001b[0;32mreturn\u001b[0m \u001b[0m__getattr__\u001b[0m\u001b[0;34m\u001b[0m\u001b[0;34m\u001b[0m\u001b[0m\n",
      "\u001b[0;31mAttributeError\u001b[0m: module 'matplotlib' has no attribute 'hist'"
     ]
    }
   ],
   "source": [
    "# Implementa tu respuesta en esta celda\n"
   ]
  },
  {
   "cell_type": "markdown",
   "metadata": {},
   "source": [
    "## Referencias"
   ]
  },
  {
   "cell_type": "markdown",
   "metadata": {},
   "source": [
    "* Discriminación Positiva<br>\n",
    "https://es.wikipedia.org/wiki/Discriminaci%C3%B3n_positiva\n",
    "* Análisis de formulación del programa “Ser Pilo Paga”<br>\n",
    "https://repository.urosario.edu.co/handle/10336/12526\n",
    "* La acción afirmativa en la Universidad de los Andes: El caso del programa \"Oportunidades para talentos nacionales\"<br> http://www.scielo.org.co/scielo.php?script=sci_arttext&pid=S0123-885X2004000300005\n",
    "* Acción afirmativa y equidad: un análisis desde la propuesta de Thomas Nagel<br>\n",
    "http://www.scielo.org.mx/scielo.php?script=sci_arttext&pid=S2007-24062016000200049"
   ]
  },
  {
   "cell_type": "markdown",
   "metadata": {},
   "source": [
    "## Créditos"
   ]
  },
  {
   "cell_type": "markdown",
   "metadata": {},
   "source": [
    "__Autores__: Camilo Hernando Gómez Castro, Alejandro Mantilla Redondo, Diego Alejandro Cely Gómez.\n",
    " \n",
    "__Fecha última actualización__: 11/07/2022"
   ]
  }
 ],
 "metadata": {
  "kernelspec": {
   "display_name": "Python 3.9.5 64-bit",
   "language": "python",
   "name": "python3"
  },
  "language_info": {
   "codemirror_mode": {
    "name": "ipython",
    "version": 3
   },
   "file_extension": ".py",
   "mimetype": "text/x-python",
   "name": "python",
   "nbconvert_exporter": "python",
   "pygments_lexer": "ipython3",
   "version": "3.9.5"
  },
  "vscode": {
   "interpreter": {
    "hash": "d85b5a502228b4ceb08f01d643c920f93166786224c4e10e0a8699a71428e83d"
   }
  }
 },
 "nbformat": 4,
 "nbformat_minor": 1
}
